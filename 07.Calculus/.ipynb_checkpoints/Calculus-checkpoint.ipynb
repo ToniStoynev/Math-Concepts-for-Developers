{
 "cells": [
  {
   "cell_type": "code",
   "execution_count": 9,
   "id": "de2dc668-2779-4de1-8699-d5bde8b5ca3c",
   "metadata": {},
   "outputs": [],
   "source": [
    "import numpy as np"
   ]
  },
  {
   "cell_type": "code",
   "execution_count": 15,
   "id": "8dd758f0-99b0-42e0-bfed-81677013514a",
   "metadata": {},
   "outputs": [
    {
     "name": "stdout",
     "output_type": "stream",
     "text": [
      "[1.e+00 1.e-01 1.e-02 1.e-03 1.e-04 1.e-05 1.e-06 1.e-07 1.e-08 1.e-09\n",
      " 1.e-10]\n",
      "[ 4.          8.41        8.9401      8.994001    8.99940001  8.99994\n",
      "  8.999994    8.9999994   8.99999994  8.99999999  9.          9.\n",
      "  9.00000001  9.00000006  9.0000006   9.000006    9.00006     9.00060001\n",
      "  9.006001    9.0601      9.61       16.        ]\n"
     ]
    }
   ],
   "source": [
    "def get_limit(f, a):\n",
    " epsilon = np.array([\n",
    " 10 ** p\n",
    " for p in np.arange(0, -11, -1, dtype = float)])\n",
    "\n",
    " print(epsilon)\n",
    "    \n",
    " x = np.append(a - epsilon, (a + epsilon)[::-1])\n",
    " y = f(x)\n",
    " return y\n",
    "    \n",
    "print(get_limit(lambda x: x ** 2, 3))\n",
    "# print(get_limit(lambda x: x ** 2+ 3* x, 2))\n",
    "# print(get_limit(lambda x: np.sin(x), 0))"
   ]
  },
  {
   "cell_type": "code",
   "execution_count": 1,
   "id": "d22b6a59-a479-4233-a6cd-8a7aeeca33e7",
   "metadata": {},
   "outputs": [
    {
     "name": "stdout",
     "output_type": "stream",
     "text": [
      "The local minimum occurs at  2.2499646074278457\n"
     ]
    }
   ],
   "source": [
    " x_old = 0\n",
    " x_new = 6\n",
    " step_size = 0.01\n",
    " precision = 0.00001\n",
    "\n",
    " def df(x):\n",
    "     # f'(x^4 - 3x^3 + 2) = 4x^3 - 9x^2\n",
    "     y = 4 * x ** 3- 9 * x ** 2\n",
    "     return y\n",
    "     \n",
    " while abs(x_new - x_old) > precision:\n",
    "     x_old = x_new\n",
    "     x_new += -step_size * df(x_old)\n",
    " \n",
    " print(\"The local minimum occurs at \", x_new)"
   ]
  }
 ],
 "metadata": {
  "kernelspec": {
   "display_name": "Python 3 (ipykernel)",
   "language": "python",
   "name": "python3"
  },
  "language_info": {
   "codemirror_mode": {
    "name": "ipython",
    "version": 3
   },
   "file_extension": ".py",
   "mimetype": "text/x-python",
   "name": "python",
   "nbconvert_exporter": "python",
   "pygments_lexer": "ipython3",
   "version": "3.11.7"
  }
 },
 "nbformat": 4,
 "nbformat_minor": 5
}
