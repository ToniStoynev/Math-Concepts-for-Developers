{
 "cells": [
  {
   "cell_type": "code",
   "execution_count": 1,
   "id": "dff3ff96-0b74-4506-bf0b-56dedb4e04dc",
   "metadata": {},
   "outputs": [],
   "source": [
    "%matplotlib inline"
   ]
  },
  {
   "cell_type": "code",
   "execution_count": 2,
   "id": "8c94af0b-ebe8-411f-94ae-242ef348e8af",
   "metadata": {},
   "outputs": [],
   "source": [
    "import numpy as np"
   ]
  },
  {
   "cell_type": "markdown",
   "id": "311aa073-0955-40b9-8c1a-528c74f46261",
   "metadata": {},
   "source": [
    "# Calculus"
   ]
  },
  {
   "cell_type": "markdown",
   "id": "43e347eb-1bae-4f48-9146-a83cfcc305d2",
   "metadata": {},
   "source": [
    "## Find the limit of a function at a point"
   ]
  },
  {
   "cell_type": "code",
   "execution_count": 3,
   "id": "77ddc53a-6102-41e2-b450-b6fd90f44b34",
   "metadata": {},
   "outputs": [
    {
     "name": "stdout",
     "output_type": "stream",
     "text": [
      "[[ 2.          4.        ]\n",
      " [ 2.9         8.41      ]\n",
      " [ 2.99        8.9401    ]\n",
      " [ 2.999       8.994001  ]\n",
      " [ 2.9999      8.99940001]\n",
      " [ 2.99999     8.99994   ]\n",
      " [ 2.999999    8.999994  ]\n",
      " [ 2.9999999   8.9999994 ]\n",
      " [ 2.99999999  8.99999994]\n",
      " [ 3.          8.99999999]\n",
      " [ 3.          9.        ]\n",
      " [ 3.          9.        ]\n",
      " [ 3.          9.00000001]\n",
      " [ 3.00000001  9.00000006]\n",
      " [ 3.0000001   9.0000006 ]\n",
      " [ 3.000001    9.000006  ]\n",
      " [ 3.00001     9.00006   ]\n",
      " [ 3.0001      9.00060001]\n",
      " [ 3.001       9.006001  ]\n",
      " [ 3.01        9.0601    ]\n",
      " [ 3.1         9.61      ]\n",
      " [ 4.         16.        ]]\n",
      "[[ 1.          4.        ]\n",
      " [ 1.9         9.31      ]\n",
      " [ 1.99        9.9301    ]\n",
      " [ 1.999       9.993001  ]\n",
      " [ 1.9999      9.99930001]\n",
      " [ 1.99999     9.99993   ]\n",
      " [ 1.999999    9.999993  ]\n",
      " [ 1.9999999   9.9999993 ]\n",
      " [ 1.99999999  9.99999993]\n",
      " [ 2.          9.99999999]\n",
      " [ 2.         10.        ]\n",
      " [ 2.         10.        ]\n",
      " [ 2.         10.00000001]\n",
      " [ 2.00000001 10.00000007]\n",
      " [ 2.0000001  10.0000007 ]\n",
      " [ 2.000001   10.000007  ]\n",
      " [ 2.00001    10.00007   ]\n",
      " [ 2.0001     10.00070001]\n",
      " [ 2.001      10.007001  ]\n",
      " [ 2.01       10.0701    ]\n",
      " [ 2.1        10.71      ]\n",
      " [ 3.         18.        ]]\n",
      "[[-1.00000000e+00 -8.41470985e-01]\n",
      " [-1.00000000e-01 -9.98334166e-02]\n",
      " [-1.00000000e-02 -9.99983333e-03]\n",
      " [-1.00000000e-03 -9.99999833e-04]\n",
      " [-1.00000000e-04 -9.99999998e-05]\n",
      " [-1.00000000e-05 -1.00000000e-05]\n",
      " [-1.00000000e-06 -1.00000000e-06]\n",
      " [-1.00000000e-07 -1.00000000e-07]\n",
      " [-1.00000000e-08 -1.00000000e-08]\n",
      " [-1.00000000e-09 -1.00000000e-09]\n",
      " [-1.00000000e-10 -1.00000000e-10]\n",
      " [ 1.00000000e-10  1.00000000e-10]\n",
      " [ 1.00000000e-09  1.00000000e-09]\n",
      " [ 1.00000000e-08  1.00000000e-08]\n",
      " [ 1.00000000e-07  1.00000000e-07]\n",
      " [ 1.00000000e-06  1.00000000e-06]\n",
      " [ 1.00000000e-05  1.00000000e-05]\n",
      " [ 1.00000000e-04  9.99999998e-05]\n",
      " [ 1.00000000e-03  9.99999833e-04]\n",
      " [ 1.00000000e-02  9.99983333e-03]\n",
      " [ 1.00000000e-01  9.98334166e-02]\n",
      " [ 1.00000000e+00  8.41470985e-01]]\n"
     ]
    }
   ],
   "source": [
    "def get_limit(f, a):\n",
    "    epsilon = np.array([10 ** p for p in np.arange(0, -11, -1, dtype = float)])\n",
    "    x = np.append(a - epsilon, (a + epsilon)[::-1])\n",
    "    y = f(x)\n",
    "    return np.stack([x, y], axis = 1)\n",
    "    \n",
    "print(get_limit(lambda x: x ** 2, 3))\n",
    "print(get_limit(lambda x: x ** 2 + 3 * x, 2))\n",
    "print(get_limit(lambda x: np.sin(x), 0))"
   ]
  },
  {
   "cell_type": "markdown",
   "id": "ec07dcc7-feab-4547-b45d-b96d5bda920a",
   "metadata": {},
   "source": [
    "## Calculating Derivatives"
   ]
  },
  {
   "cell_type": "code",
   "execution_count": 4,
   "id": "c53b686b-7fb4-4d30-8d17-4bb69a00163c",
   "metadata": {},
   "outputs": [
    {
     "name": "stdout",
     "output_type": "stream",
     "text": [
      "23.00000026878024\n"
     ]
    }
   ],
   "source": [
    "def calculate_derivative(f, a, h = 1e-7):\n",
    "    return (f(a + h) - f(a)) / h\n",
    "    \n",
    "print(calculate_derivative(lambda x: 3 * x**2 + 5 * x - 8, 3))"
   ]
  },
  {
   "cell_type": "markdown",
   "id": "832f1932-7e7b-47e1-8455-f08229756491",
   "metadata": {},
   "source": [
    "## Gradient Descent"
   ]
  },
  {
   "cell_type": "markdown",
   "id": "a27d9159-20b7-4d4a-b9d4-84cd26d05080",
   "metadata": {},
   "source": [
    "Finding the local minimum of the function $ f(x) = x^4 - 3x^3 + 2 $ "
   ]
  },
  {
   "cell_type": "code",
   "execution_count": 5,
   "id": "bafb1ab4-ac39-471b-8415-a4e490c8b07c",
   "metadata": {},
   "outputs": [
    {
     "name": "stdout",
     "output_type": "stream",
     "text": [
      "The local minimum occurs at  2.2499646074278457\n"
     ]
    }
   ],
   "source": [
    "x_old = 0\n",
    "x_new = 6\n",
    "step_size = 0.01\n",
    "precision = 0.00001\n",
    "\n",
    "def df(x):\n",
    "    # f'(x^4 - 3x^3 + 2) = 4x^3 - 9x^2\n",
    "    y = 4 * x ** 3 - 9 * x ** 2 # first deravative of f'(x^4 - 3x^3 + 2) = 4x^3 - 9x^2\n",
    "    return y\n",
    "    \n",
    "while abs(x_new - x_old) > precision:\n",
    "    x_old = x_new\n",
    "    x_new += -step_size * df(x_old)\n",
    "    \n",
    "print(\"The local minimum occurs at \", x_new)"
   ]
  }
 ],
 "metadata": {
  "kernelspec": {
   "display_name": "Python 3 (ipykernel)",
   "language": "python",
   "name": "python3"
  },
  "language_info": {
   "codemirror_mode": {
    "name": "ipython",
    "version": 3
   },
   "file_extension": ".py",
   "mimetype": "text/x-python",
   "name": "python",
   "nbconvert_exporter": "python",
   "pygments_lexer": "ipython3",
   "version": "3.11.7"
  }
 },
 "nbformat": 4,
 "nbformat_minor": 5
}
