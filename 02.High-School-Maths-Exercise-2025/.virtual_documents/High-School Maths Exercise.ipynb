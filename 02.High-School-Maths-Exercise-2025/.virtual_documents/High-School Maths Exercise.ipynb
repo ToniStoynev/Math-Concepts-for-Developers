import sympy
import math
import numpy as np
import matplotlib.pyplot as plt























x = sympy.symbols('x')
a, b, c = sympy.symbols('a b c')
sympy.solve(a * x**2 + b * x + c)





sympy.init_printing()
sympy.solve(a * x**2 + b * x + c, x)





def solve_quadratic_equation(a, b, c):
    if a == 0:
        return [-c / b]
    discriminant = b ** 2 - 4 * a * c 
    denominator = (2 * a)
    if discriminant > 0:
        x1 = (-b - math.sqrt(discriminant)) / denominator
        x2 = (-b + math.sqrt(discriminant)) / denominator
        return [x1, x2]
    elif  discriminant == 0:
        x1 = x2 = -b / denominator
        return [x1, x2]
    else:
        return []


# Testing: Execute this cell. The outputs should match the expected outputs. Feel free to write more tests
print(solve_quadratic_equation(1, -1, -2)) # [-1.0, 2.0]
print(solve_quadratic_equation(1, -8, 16)) # [4.0]
print(solve_quadratic_equation(1, 1, 1)) # []
print(solve_quadratic_equation(0, 2, 4)) # [-2.0]








# Create a function which generates the first Fibonacci numbers as a Python list. Even better, generalize it to take n as a parameter.
def generate_n_fibonacci_numbers(n):
    if not isinstance(n, int):
        raise TypeError("Only integers are allowed")
    if n <= 0:
        raise Exception(f"The number {n} is not a valid input.The parameter `n` must be a positive number")
    elif n == 1:
        return [0]
    elif n == 2:
        return [0, 1]
    else:
        fibonacciSequence = [0, 1]
        [fibonacciSequence.append(fibonacciSequence[x - 1] + fibonacciSequence[x - 2]) for x in range(2, n)]
        return fibonacciSequence


# Apply it, and save the result in a variable
n_fibonacci_numbers = generate_n_fibonacci_numbers(20)


n_fibonacci_numbers


# In another variable, square them
squared_fibonacci_numbers = [x ** 2 for x in n_fibonacci_numbers]


squared_fibonacci_numbers


# In another variable, extract all odd squared numbers
odd_squared_numbers = [x for x in squared_fibonacci_numbers if x % 2 != 0]


odd_squared_numbers


# Find the sum of all odd squares of the first n Fibonacci numbers
sum_odd_squared_numbers = sum(odd_squared_numbers)


sum_odd_squared_numbers


# Write 1-5 in a single expression, without intermediate variables
sum_odd_squared_numbers_v2 = sum(filter(lambda x: x % 2 != 0, map(lambda x: x ** 2, generate_n_fibonacci_numbers(20))))


sum_odd_squared_numbers_v2





print(math.pow(2, 3))
print(pow(2, 3))
print(math.sqrt(25))
print(math.log(8, 2))





# Log of 1
print(math.log(1) == 0)

# Log of the same numebr as base
print(math.log(math.e) == 1)

# Product rule
print(math.log(2 * 3) == math.log(2) + math.log(3))





x = np.linspace(-3, 5, 1000)
y = 2 * x + 3
plt.plot(x, y)
plt.show()





ax = plt.gca()
ax.spines["bottom"].set_position("zero")
ax.spines["left"].set_position("zero")
ax.spines["top"].set_visible(False)
ax.spines["right"].set_visible(False)

# remove the double 0 at the origin and replace it with a single one
ax.yaxis.set_major_formatter(plt.FuncFormatter(lambda y, pos: '' if y == 0 else f'{y:g}'))

plt.plot(x, y)
plt.show()











def plot_math_function(f, min_x, max_x, num_points):
    x = np.linspace(min_x, max_x, num_points)
    f_vectorized = np.vectorize(f)
    y = f(x)

    ax = plt.gca()
    ax.spines["bottom"].set_position("zero")
    ax.spines["left"].set_position("zero")
    ax.spines["top"].set_visible(False)
    ax.spines["right"].set_visible(False)
    ax.yaxis.set_major_formatter(plt.FuncFormatter(lambda y, pos: '' if y == 0 else f'{y:g}'))
    
    plt.plot(x, y)
    plt.show()


plot_math_function(lambda x: 2 * x + 3, -3, 5, 1000)
plot_math_function(lambda x: -x + 8, -1, 10, 1000)
plot_math_function(lambda x: x**2 - x - 2, -3, 4, 1000)
plot_math_function(lambda x: np.sin(x), -np.pi, np.pi, 1000)
plot_math_function(lambda x: np.sin(x) / x, -4 * np.pi, 4 * np.pi, 1000)





def plot_math_functions(functions, min_x, max_x, num_points):
    x = np.linspace(min_x, max_x, num_points)
    vectorized_fs = [np.vectorize(f) for f in functions]
    ys = [vectorized_f(x) for vectorized_f in vectorized_fs]

    ax = plt.gca()
    ax.spines["bottom"].set_position("zero")
    ax.spines["left"].set_position("zero")
    ax.spines["top"].set_visible(False)
    ax.spines["right"].set_visible(False)
    ax.yaxis.set_major_formatter(plt.FuncFormatter(lambda y, pos: '' if y == 0 else f'{y:g}'))
    
    [plt.plot(x, y) for y in ys]
    plt.show()


plot_math_functions([lambda x: 2 * x + 3, lambda x: 0], -3, 5, 1000)
plot_math_functions([lambda x: 3 * x**2 - 2 * x + 5, lambda x: 3 * x + 7], -2, 3, 1000)





plot_math_functions([lambda x: (-4 * x + 7) / 3, lambda x: (-3 * x + 8) / 5, lambda x: (-x - 1) / -2], -1, 4, 1000)








plot_math_function(np.arcsin, -1, 1, 1000)
plot_math_function(np.arccos, -1, 1, 1000)
plot_math_function(np.arctan, -1, 1, 1000)



