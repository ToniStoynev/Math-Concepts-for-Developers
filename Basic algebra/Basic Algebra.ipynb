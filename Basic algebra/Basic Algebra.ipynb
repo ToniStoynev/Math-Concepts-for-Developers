{
 "cells": [
  {
   "cell_type": "code",
   "execution_count": 1,
   "id": "36eeb2c2-3d50-43b0-af38-45e7713bb59d",
   "metadata": {},
   "outputs": [],
   "source": [
    "%matplotlib inline"
   ]
  },
  {
   "cell_type": "code",
   "execution_count": 2,
   "id": "3b51e77b-00f3-449c-89ec-322fa24571d7",
   "metadata": {},
   "outputs": [],
   "source": [
    "import numpy as np\n",
    "import sympy\n",
    "import matplotlib.pyplot as plt\n",
    "import numpy.polynomial as p\n",
    "from sympy.abc import x\n",
    "import cmath"
   ]
  },
  {
   "cell_type": "markdown",
   "id": "48fe7c89-2fc8-40a5-8158-a0bc8ce31541",
   "metadata": {},
   "source": [
    "# Basic Algebra"
   ]
  },
  {
   "cell_type": "markdown",
   "id": "3cb66194-c605-4c00-8f80-c0afff859df5",
   "metadata": {},
   "source": [
    "### Polynomials"
   ]
  },
  {
   "cell_type": "markdown",
   "id": "650a4e14-7073-45dd-b5b2-f49eea59bf62",
   "metadata": {},
   "source": [
    "#### Polinomials in Python"
   ]
  },
  {
   "cell_type": "code",
   "execution_count": 3,
   "id": "8139a1ce-1cf6-4ebe-b2bf-7841abb35d92",
   "metadata": {},
   "outputs": [],
   "source": [
    "first_polinomial = p.Polynomial([-8, 5, 2])"
   ]
  },
  {
   "cell_type": "code",
   "execution_count": 4,
   "id": "47a9b9e8-eda6-4e37-9224-dce76a00988c",
   "metadata": {},
   "outputs": [
    {
     "data": {
      "text/latex": [
       "$x \\mapsto \\text{-8.0} + \\text{5.0}\\,x + \\text{2.0}\\,x^{2}$"
      ],
      "text/plain": [
       "Polynomial([-8.,  5.,  2.], domain=[-1,  1], window=[-1,  1], symbol='x')"
      ]
     },
     "execution_count": 4,
     "metadata": {},
     "output_type": "execute_result"
    }
   ],
   "source": [
    "first_polinomial"
   ]
  },
  {
   "cell_type": "code",
   "execution_count": 5,
   "id": "8d92d3f0-b6be-44f6-8f26-5c6242b2e2a0",
   "metadata": {},
   "outputs": [
    {
     "data": {
      "text/plain": [
       "array([-8.,  5.,  2.])"
      ]
     },
     "execution_count": 5,
     "metadata": {},
     "output_type": "execute_result"
    }
   ],
   "source": [
    "first_polinomial.coef"
   ]
  },
  {
   "cell_type": "code",
   "execution_count": 6,
   "id": "dea1c61b-c713-439a-90f0-7d4e3f43b96d",
   "metadata": {},
   "outputs": [],
   "source": [
    "second_polinomial = p.Polynomial([-2, 0, 0, 0, 3])"
   ]
  },
  {
   "cell_type": "code",
   "execution_count": 7,
   "id": "272c0cbc-c45b-4146-9a9c-d9c728bd8e40",
   "metadata": {},
   "outputs": [
    {
     "data": {
      "text/latex": [
       "$x \\mapsto \\text{-2.0}\\color{LightGray}{ + \\text{0.0}\\,x}\\color{LightGray}{ + \\text{0.0}\\,x^{2}}\\color{LightGray}{ + \\text{0.0}\\,x^{3}} + \\text{3.0}\\,x^{4}$"
      ],
      "text/plain": [
       "Polynomial([-2.,  0.,  0.,  0.,  3.], domain=[-1,  1], window=[-1,  1], symbol='x')"
      ]
     },
     "execution_count": 7,
     "metadata": {},
     "output_type": "execute_result"
    }
   ],
   "source": [
    "second_polinomial"
   ]
  },
  {
   "cell_type": "code",
   "execution_count": 8,
   "id": "975a22df-a810-49d0-9557-d4f049029262",
   "metadata": {},
   "outputs": [
    {
     "data": {
      "text/plain": [
       "array([-2.,  0.,  0.,  0.,  3.])"
      ]
     },
     "execution_count": 8,
     "metadata": {},
     "output_type": "execute_result"
    }
   ],
   "source": [
    "second_polinomial.coef"
   ]
  },
  {
   "cell_type": "code",
   "execution_count": 9,
   "id": "da199e7b-f255-471f-ab9f-ecc04b0efb09",
   "metadata": {},
   "outputs": [],
   "source": [
    "polinomial_sum = first_polinomial + second_polinomial"
   ]
  },
  {
   "cell_type": "code",
   "execution_count": 10,
   "id": "5b9c3fd4-c0b1-414d-beac-dd161afaf192",
   "metadata": {},
   "outputs": [
    {
     "data": {
      "text/latex": [
       "$x \\mapsto \\text{-10.0} + \\text{5.0}\\,x + \\text{2.0}\\,x^{2}\\color{LightGray}{ + \\text{0.0}\\,x^{3}} + \\text{3.0}\\,x^{4}$"
      ],
      "text/plain": [
       "Polynomial([-10.,   5.,   2.,   0.,   3.], domain=[-1.,  1.], window=[-1.,  1.], symbol='x')"
      ]
     },
     "execution_count": 10,
     "metadata": {},
     "output_type": "execute_result"
    }
   ],
   "source": [
    "polinomial_sum"
   ]
  },
  {
   "cell_type": "code",
   "execution_count": 11,
   "id": "1b5d1f33-a123-46ec-9728-0e8b494c009d",
   "metadata": {},
   "outputs": [],
   "source": [
    "polinomial_product = first_polinomial * second_polinomial"
   ]
  },
  {
   "cell_type": "code",
   "execution_count": 12,
   "id": "75a0aabe-1a38-45aa-8502-d89a7652029a",
   "metadata": {},
   "outputs": [
    {
     "data": {
      "text/latex": [
       "$x \\mapsto \\text{16.0} - \\text{10.0}\\,x - \\text{4.0}\\,x^{2}\\color{LightGray}{ + \\text{0.0}\\,x^{3}} - \\text{24.0}\\,x^{4} + \\text{15.0}\\,x^{5} + \\text{6.0}\\,x^{6}$"
      ],
      "text/plain": [
       "Polynomial([ 16., -10.,  -4.,   0., -24.,  15.,   6.], domain=[-1.,  1.], window=[-1.,  1.], symbol='x')"
      ]
     },
     "execution_count": 12,
     "metadata": {},
     "output_type": "execute_result"
    }
   ],
   "source": [
    "polinomial_product"
   ]
  },
  {
   "cell_type": "code",
   "execution_count": 13,
   "id": "9a35bfe1-ba2e-4bd2-be86-3373417f356c",
   "metadata": {},
   "outputs": [
    {
     "name": "stdout",
     "output_type": "stream",
     "text": [
      "3.0*x**4 - 2.0\n"
     ]
    }
   ],
   "source": [
    "polynomial = p.Polynomial([-2, 0, 0, 0, 3])\n",
    "sympy.init_printing()\n",
    "\n",
    "# Reverse the order of coefficients (sympy expects them from highest to lowest)\n",
    "print(sympy.Poly(reversed(polynomial.coef), x).as_expr())"
   ]
  },
  {
   "cell_type": "markdown",
   "id": "6894da53-8823-4b40-8b95-f49289d681a9",
   "metadata": {},
   "source": [
    "### Sets"
   ]
  },
  {
   "cell_type": "markdown",
   "id": "9c482ca5-6648-47af-8145-34f4dd2d8d28",
   "metadata": {},
   "source": [
    "#### Sets in Python"
   ]
  },
  {
   "cell_type": "code",
   "execution_count": 14,
   "id": "b1968e1e-980e-4797-8ab8-56295b5f674a",
   "metadata": {},
   "outputs": [],
   "source": [
    "# Set notation: curly braces\n",
    "\n",
    "names = {\"Alice\", \"Bob\", \"Charlie\", \"David\", \"Bob\"}"
   ]
  },
  {
   "cell_type": "code",
   "execution_count": 15,
   "id": "9b2cc190-6810-4c3a-9109-360f5c7ed7cb",
   "metadata": {},
   "outputs": [],
   "source": [
    "# Set comprehension\n",
    "\n",
    "positive_x = {x for x in range(-5, 5) if x > 0}"
   ]
  },
  {
   "cell_type": "code",
   "execution_count": 16,
   "id": "39879915-febd-4709-bdce-95293330ed1b",
   "metadata": {},
   "outputs": [
    {
     "data": {
      "image/png": "[encoded data removed]",
      "text/latex": [
       "$\\displaystyle \\left\\{1, 2, 3, 4\\right\\}$"
      ],
      "text/plain": [
       "{1, 2, 3, 4}"
      ]
     },
     "execution_count": 16,
     "metadata": {},
     "output_type": "execute_result"
    }
   ],
   "source": [
    "positive_x"
   ]
  },
  {
   "cell_type": "markdown",
   "id": "69e8307f-bf16-4226-abe5-264b0c4141bf",
   "metadata": {},
   "source": [
    "#### Operations on Sets"
   ]
  },
  {
   "cell_type": "code",
   "execution_count": 17,
   "id": "57dfa527-cc83-46c8-809e-1ba376e3f33c",
   "metadata": {},
   "outputs": [
    {
     "name": "stdout",
     "output_type": "stream",
     "text": [
      "4\n",
      "True\n",
      "True\n",
      "{1, 2, 3, 4, 5, 10}\n",
      "{3, 4}\n",
      "{1, 2}\n",
      "{10, 5}\n",
      "{1, 2, 5, 10}\n",
      "True\n"
     ]
    }
   ],
   "source": [
    "set1 = { 1, 2, 3, 4}\n",
    "set2 = {3, 4, 5, 10, 3, 5, 10, 3, 3}\n",
    "print(len(set2)) # 4 - cardinality\n",
    "print(1 in set1) # True\n",
    "print({1, 2}.issubset(set1)) # True\n",
    "print(set1.union(set2)) # {1, 2, 3, 4, 5, 10}\n",
    "print(set1.intersection(set2)) # {3, 4}\n",
    "print(set1.difference(set2)) # {1, 2}\n",
    "print(set2.difference(set1)) # {10, 5}\n",
    "print(set1.symmetric_difference(set2)) # {1, 2, 5, 10}\n",
    "print(10 not in set1) # True"
   ]
  },
  {
   "cell_type": "code",
   "execution_count": 18,
   "id": "f84980ab-648c-4833-996c-32be7a0a022b",
   "metadata": {},
   "outputs": [
    {
     "name": "stdout",
     "output_type": "stream",
     "text": [
      "{(2, -1), (1, 2), (3, -1), (2, 1), (3, 1), (1, 1), (2, 0), (1, -1), (3, 0), (2, 2), (1, 0), (3, 2)}\n"
     ]
    }
   ],
   "source": [
    "# Cartesian product:\n",
    "\n",
    "set1 = {1, 2, 3}\n",
    "set2 = {-1, 0, 1, 2}\n",
    "\n",
    "print({(a, b) for a in set1 for b in set2})"
   ]
  },
  {
   "cell_type": "markdown",
   "id": "fe187263-124f-4887-9956-35479a688418",
   "metadata": {},
   "source": [
    "### Functions"
   ]
  },
  {
   "cell_type": "code",
   "execution_count": 19,
   "id": "fa6fa386-8948-44f8-81a4-6f56e2ad4b06",
   "metadata": {},
   "outputs": [
    {
     "data": {
      "image/png": "[encoded data removed]",
      "text/plain": [
       "<Figure size 640x480 with 1 Axes>"
      ]
     },
     "metadata": {},
     "output_type": "display_data"
    }
   ],
   "source": [
    "def plot_functions(f, x_min = -10, x_max = 10, n_values = 2000):\n",
    "    plt.gca().set_aspect(\"equal\")\n",
    "    x = np.linspace(x_min, x_max, n_values)\n",
    "    y = f(x)\n",
    "    plt.plot(x, y)\n",
    "    plt.show()\n",
    "    \n",
    "plot_functions(lambda x: np.sin(x))    "
   ]
  },
  {
   "cell_type": "code",
   "execution_count": 20,
   "id": "8528ad2a-46e5-489a-a7d1-078604871f5d",
   "metadata": {},
   "outputs": [
    {
     "data": {
      "image/png": "[encoded data removed]",
      "text/plain": [
       "<Figure size 640x480 with 1 Axes>"
      ]
     },
     "metadata": {},
     "output_type": "display_data"
    }
   ],
   "source": [
    "#Plot unit circle\n",
    "\n",
    "def plot_function(f, x_min = -10, x_max = 10, n_values = 2000):\n",
    " plt.gca().set_aspect(\"equal\")\n",
    " x = np.linspace(x_min, x_max, n_values)\n",
    " y = f(x)\n",
    " plt.plot(x, y,  c = \"blue\")\n",
    "    \n",
    "plot_function(lambda x: np.sqrt(1- x**2), -1, 1)\n",
    "plot_function(lambda x: -np.sqrt(1- x**2), -1, 1)\n",
    "plt.show()"
   ]
  },
  {
   "cell_type": "code",
   "execution_count": 21,
   "id": "cdc96924-7c37-4ae8-be9a-78d7912392e4",
   "metadata": {},
   "outputs": [
    {
     "data": {
      "image/png": "[encoded data removed]",
      "text/plain": [
       "<Figure size 640x480 with 1 Axes>"
      ]
     },
     "metadata": {},
     "output_type": "display_data"
    }
   ],
   "source": [
    "# Graphing a function in polar coordinates\n",
    "\n",
    "r = 1 # Radius\n",
    "phi = np.linspace(0, 2* np.pi, 1000) # Angle (full circle)\n",
    "x = r * np.cos(phi)\n",
    "y = r * np.sin(phi)\n",
    "plt.plot(x, y)\n",
    "plt.gca().set_aspect(\"equal\")\n",
    "plt.show()"
   ]
  },
  {
   "cell_type": "markdown",
   "id": "c66c758d-f978-4f13-95d2-7c126bfe8e2b",
   "metadata": {},
   "source": [
    "### Complex numbers"
   ]
  },
  {
   "cell_type": "code",
   "execution_count": 22,
   "id": "77592f84-de76-47ff-b220-f15c671df888",
   "metadata": {},
   "outputs": [
    {
     "name": "stdout",
     "output_type": "stream",
     "text": [
      "3.0\n",
      "2.0\n"
     ]
    }
   ],
   "source": [
    "z = 3 + 2j\n",
    "print(z.real)\n",
    "print(z.imag)"
   ]
  },
  {
   "cell_type": "code",
   "execution_count": 23,
   "id": "06b690f7-dddb-4095-96f6-97c0e54f5553",
   "metadata": {},
   "outputs": [
    {
     "name": "stdout",
     "output_type": "stream",
     "text": [
      "(11-1j)\n",
      "(30+7j)\n"
     ]
    }
   ],
   "source": [
    "#Adding and multiplying complex numbers\n",
    "\n",
    "print((3 + 2j) + (8- 3j)) # (11-1j)\n",
    "print((3 + 2j) * (8- 3j)) # (30+7j)"
   ]
  },
  {
   "cell_type": "code",
   "execution_count": 24,
   "id": "64e31679-e1d6-4e03-ad69-bf0c1aad6dc0",
   "metadata": {},
   "outputs": [
    {
     "name": "stdout",
     "output_type": "stream",
     "text": [
      "[(4+0j), (-1+0j)]\n",
      "[(2+0j), (-2+0j)]\n",
      "[(-1+0j), (-1+0j)]\n",
      "[(-2+1j), (-2-1j)]\n"
     ]
    }
   ],
   "source": [
    "#  quadratic equations\n",
    "\n",
    "def solve_quadratic_equation(a, b, c):\n",
    "    discriminant = cmath.sqrt(b * b - 4 * a * c)\n",
    "    return [\n",
    "        (-b + discriminant) / (2 * a),\n",
    "        (-b - discriminant) / (2 * a)]\n",
    "\n",
    "print(solve_quadratic_equation(1, -3, -4)) # [(4+0j), (-1+0j)]\n",
    "print(solve_quadratic_equation(1, 0, -4)) # [(2+0j), (-2+0j)]\n",
    "print(solve_quadratic_equation(1, 2, 1)) # [(-1+0j), (-1+0j)]\n",
    "print(solve_quadratic_equation(1, 4, 5)) # [(-2+1j), (-2-1j)]"
   ]
  },
  {
   "cell_type": "markdown",
   "id": "4cab383b-92ae-4c07-a1cd-71351a928879",
   "metadata": {},
   "source": [
    "### Fundametal Theory of Algebra"
   ]
  },
  {
   "cell_type": "code",
   "execution_count": 25,
   "id": "938fb4a2-351a-46b7-8d83-2784e8c4c0fa",
   "metadata": {},
   "outputs": [
    {
     "name": "stdout",
     "output_type": "stream",
     "text": [
      "[-1.  4.]\n",
      "[-2.  2.]\n",
      "[-1.00000001 -0.99999999]\n",
      "[-2.-1.j -2.+1.j]\n"
     ]
    }
   ],
   "source": [
    "# Every non-zero, single-variable, degree-𝑛 polynomial with complex coefficients has, counted with multiplicity, exactly 𝑛 complex roots \n",
    "\n",
    "coefs = [\n",
    "    [-4, -3, 1], # [-1. 4.]\n",
    "    [-4, 0, 1], # [-2. 2.]\n",
    "    [1, 2, 1], # [-1.00000001 -0.99999999]\n",
    "    [5, 4, 1] # [-2.-1.j -2.+1.j]\n",
    "]\n",
    "\n",
    "for c in coefs:\n",
    "    print(p.Polynomial(c).roots())"
   ]
  }
 ],
 "metadata": {
  "kernelspec": {
   "display_name": "Python 3 (ipykernel)",
   "language": "python",
   "name": "python3"
  },
  "language_info": {
   "codemirror_mode": {
    "name": "ipython",
    "version": 3
   },
   "file_extension": ".py",
   "mimetype": "text/x-python",
   "name": "python",
   "nbconvert_exporter": "python",
   "pygments_lexer": "ipython3",
   "version": "3.11.7"
  }
 },
 "nbformat": 4,
 "nbformat_minor": 5
}
