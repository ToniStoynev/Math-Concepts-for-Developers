{
 "cells": [
  {
   "cell_type": "code",
   "execution_count": 1,
   "id": "79a867f5-d241-459f-a422-bf866467edca",
   "metadata": {},
   "outputs": [],
   "source": [
    "import math"
   ]
  },
  {
   "cell_type": "markdown",
   "id": "93f85337-468f-4267-a5bd-c26d40086151",
   "metadata": {},
   "source": [
    "# Linear equation"
   ]
  },
  {
   "cell_type": "code",
   "execution_count": 2,
   "id": "69b04dba-81d6-4567-b6b0-c9ad46b9e8a0",
   "metadata": {},
   "outputs": [],
   "source": [
    "def solve_linear_equation(a, b):\n",
    "    if a == 0:\n",
    "        if b == 0:\n",
    "            return []\n",
    "        else:\n",
    "            return math.nan\n",
    "    else:\n",
    "        return -b / a"
   ]
  },
  {
   "cell_type": "code",
   "execution_count": 3,
   "id": "5e680e6c-79f1-4b2b-9388-e58c0c4795b1",
   "metadata": {},
   "outputs": [
    {
     "data": {
      "text/plain": [
       "2.12"
      ]
     },
     "execution_count": 3,
     "metadata": {},
     "output_type": "execute_result"
    }
   ],
   "source": [
    "solve_linear_equation(2.5, -5.3) # 2.12"
   ]
  }
 ],
 "metadata": {
  "kernelspec": {
   "display_name": "Python 3 (ipykernel)",
   "language": "python",
   "name": "python3"
  },
  "language_info": {
   "codemirror_mode": {
    "name": "ipython",
    "version": 3
   },
   "file_extension": ".py",
   "mimetype": "text/x-python",
   "name": "python",
   "nbconvert_exporter": "python",
   "pygments_lexer": "ipython3",
   "version": "3.11.7"
  }
 },
 "nbformat": 4,
 "nbformat_minor": 5
}
